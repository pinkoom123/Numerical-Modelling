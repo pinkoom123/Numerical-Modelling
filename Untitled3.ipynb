{
 "cells": [
  {
   "cell_type": "code",
   "execution_count": 1,
   "id": "21d1a245-3bf1-46e0-9bc9-932440ab478e",
   "metadata": {},
   "outputs": [
    {
     "name": "stdout",
     "output_type": "stream",
     "text": [
      "/home/patrick-k-inkoom/Documents/Slides/Second term/ESM/Lab\n"
     ]
    }
   ],
   "source": [
    "pwd"
   ]
  },
  {
   "cell_type": "code",
   "execution_count": 2,
   "id": "f90edda7-aec7-43ca-bd7e-2a515b39a9e7",
   "metadata": {},
   "outputs": [
    {
     "name": "stdout",
     "output_type": "stream",
     "text": [
      "cdi  warning (cdfInqContents): Coordinates variable number can't be assigned!\n",
      "cdi  warning (cdfInqContents): Coordinates variable expver can't be assigned!\n",
      "\u001b[32mcdo    remapnn: \u001b[0mNearest neighbor weights from lonlat (1440x721) to lonlat (1x1) grid\n",
      "\u001b[32mcdo    remapnn: \u001b[0mProcessed 373766400 values from 1 variable over 360 timesteps [5.62s 420MB]\n",
      "cdi  warning (cdfInqContents): Coordinates variable number can't be assigned!\n",
      "cdi  warning (cdfInqContents): Coordinates variable expver can't be assigned!\n",
      "\u001b[32mcdo    remapnn: \u001b[0mNearest neighbor weights from lonlat (1440x721) to lonlat (1x1) grid\n",
      "\u001b[32mcdo    remapnn: \u001b[0mProcessed 373766400 values from 1 variable over 360 timesteps [5.54s 441MB]\n",
      "cdi  warning (cdfInqContents): Coordinates variable number can't be assigned!\n",
      "cdi  warning (cdfInqContents): Coordinates variable expver can't be assigned!\n",
      "\u001b[32mcdo    remapnn: \u001b[0mNearest neighbor weights from lonlat (1440x721) to lonlat (1x1) grid\n",
      "\u001b[32mcdo    remapnn: \u001b[0mProcessed 373766400 values from 1 variable over 360 timesteps [5.99s 451MB]\n",
      "\u001b[32mcdo(1) merge: \u001b[0mProcess started\n",
      "\u001b[32mcdo    expr: \u001b[0mProcessed 1080 values from 3 variables over 360 timesteps [0.06s 47MB]\n",
      "\u001b[32mcdo    ymonmean: \u001b[0mProcessed 360 values from 1 variable over 360 timesteps [0.01s 44MB]\n",
      "\u001b[32mcdo    ymonmean: \u001b[0mProcessed 360 values from 1 variable over 360 timesteps [0.01s 44MB]\n",
      "\u001b[32mcdo    ymonmean: \u001b[0mProcessed 360 values from 1 variable over 360 timesteps [0.01s 44MB]\n",
      "\u001b[32mcdo    ymonmean: \u001b[0mProcessed 360 values from 1 variable over 360 timesteps [0.01s 44MB]\n",
      "Data processing complete. Output files saved in: output_files\n"
     ]
    }
   ],
   "source": [
    "./data_extract.sh"
   ]
  },
  {
   "cell_type": "code",
   "execution_count": 3,
   "id": "a170546c-4609-4606-9098-fefcedbdce2d",
   "metadata": {},
   "outputs": [],
   "source": [
    "chmod +x data_extraction.sh"
   ]
  },
  {
   "cell_type": "code",
   "execution_count": 4,
   "id": "51d1ddad-0e96-4870-8275-f5add1effd19",
   "metadata": {},
   "outputs": [
    {
     "name": "stdout",
     "output_type": "stream",
     "text": [
      "cdi  warning (cdfInqContents): Coordinates variable number can't be assigned!\n",
      "cdi  warning (cdfInqContents): Coordinates variable expver can't be assigned!\n",
      "\u001b[32mcdo    sellonlatbox: \u001b[0mProcessed 373766400 values from 1 variable over 360 timesteps [5.56s 420MB]\n",
      "cdi  warning (cdfInqContents): Coordinates variable number can't be assigned!\n",
      "cdi  warning (cdfInqContents): Coordinates variable expver can't be assigned!\n",
      "\u001b[32mcdo    sellonlatbox: \u001b[0mProcessed 373766400 values from 1 variable over 360 timesteps [5.46s 436MB]\n",
      "cdi  warning (cdfInqContents): Coordinates variable number can't be assigned!\n",
      "cdi  warning (cdfInqContents): Coordinates variable expver can't be assigned!\n",
      "\u001b[32mcdo    sellonlatbox: \u001b[0mProcessed 373766400 values from 1 variable over 360 timesteps [5.86s 439MB]\n",
      "\u001b[32mcdo(1) merge: \u001b[0mProcess started\n",
      "\u001b[32mcdo    expr: \u001b[0mProcessed 275400 values from 3 variables over 360 timesteps [0.06s 48MB]\n",
      "\u001b[32mcdo    ymonmean: \u001b[0mProcessed 91800 values from 1 variable over 360 timesteps [0.01s 44MB]\n",
      "\u001b[32mcdo    ymonmean: \u001b[0mProcessed 91800 values from 1 variable over 360 timesteps [0.01s 44MB]\n",
      "\u001b[32mcdo    ymonmean: \u001b[0mProcessed 91800 values from 1 variable over 360 timesteps [0.01s 44MB]\n",
      "\u001b[32mcdo    ymonmean: \u001b[0mProcessed 91800 values from 1 variable over 360 timesteps [0.01s 44MB]\n",
      "\u001b[32mcdo    fldmean: \u001b[0mProcessed 3060 values from 1 variable over 12 timesteps [0.01s 44MB]\n",
      "\u001b[32mcdo    fldmean: \u001b[0mProcessed 3060 values from 1 variable over 12 timesteps [0.01s 44MB]\n",
      "\u001b[32mcdo    fldmean: \u001b[0mProcessed 3060 values from 1 variable over 12 timesteps [0.01s 44MB]\n",
      "\u001b[32mcdo    fldmean: \u001b[0mProcessed 3060 values from 1 variable over 12 timesteps [0.01s 44MB]\n",
      "Data processing complete. Output files saved in: out_files\n"
     ]
    }
   ],
   "source": [
    "./data_extraction.sh"
   ]
  },
  {
   "cell_type": "code",
   "execution_count": 5,
   "id": "fd3a12fc-4da6-4a7e-a60b-00598f474dfe",
   "metadata": {},
   "outputs": [
    {
     "name": "stdout",
     "output_type": "stream",
     "text": [
      " \u001b[0m\u001b[01;31m5e30232864068325ff4a06a2bb0353ae.zip\u001b[0m   \u001b[01;34mSensible_heat\u001b[0m\n",
      " \u001b[01;32mdata_extraction.sh\u001b[0m                     \u001b[01;31mSensible_heat.zip\u001b[0m\n",
      " \u001b[01;32mdata_extract.sh\u001b[0m                        sensible_ymean.nc\n",
      " data.nc                                SSHF_ann_mean.nc\n",
      " global_annmean_solar.nc                SSHF_global_mean.nc\n",
      " global_latentheat.nc                   SSHFlux.nc\n",
      " global_longwave.nc                    \u001b[01;35m'Surface Latent Heat Flux.png'\u001b[0m\n",
      " global_sensible.nc                     surface-long_ymean.nc\n",
      " global_TOA_solar.nc                    surface_net_long.nc\n",
      " Lab_work_ESM.ipynb                     surface_net_longwave.nc\n",
      " lateheat_ymean.nc                      Surface_net.nc\n",
      " \u001b[01;34mLatent_heat\u001b[0m                            \u001b[01;31mSurface_net.zip\u001b[0m\n",
      " \u001b[01;31mLatent_heat.zip\u001b[0m                       \u001b[01;35m'Surface Sensible Heat Flux.png'\u001b[0m\n",
      " \u001b[01;34mlongwave\u001b[0m                               Surface_SFlux.nc\n",
      " longwave_ymout.nc                      toa_i_solar.nc\n",
      " \u001b[01;31mlongwave.zip\u001b[0m                          \u001b[01;35m'TOA  Net Longwave Radiation.png'\u001b[0m\n",
      " Net_latentheat.nc                     \u001b[01;35m'TOA  Net Solar Radiation.png'\u001b[0m\n",
      "'net-lw-annual-Zonmean (2).nc'          toa_sol_ann_mean.nc\n",
      " Net_sensible.nc                        TOA_Solar.nc\n",
      " net-short-annual-Zonmean.nc            TOA_solar_ymean.nc\n",
      " \u001b[01;34mNet-Surface\u001b[0m                            \u001b[01;31mTOA_solar.zip\u001b[0m\n",
      " Net_surface.nc                         Top_net_gmean.nc\n",
      "\u001b[01;35m'Net Surface Radiation.png'\u001b[0m             Top_net_solar.nc\n",
      " Net_surface_rad.nc                     \u001b[01;31mTop_net-solar.zip\u001b[0m\n",
      " Net_surface_ymean.nc                   Top_net_ymean.nc\n",
      " \u001b[01;31mNet-Surface.zip\u001b[0m                        Untitled1.ipynb\n",
      " \u001b[01;34mout_files\u001b[0m                              Untitled2.ipynb\n",
      " \u001b[01;34moutput_files\u001b[0m                           Untitled3.ipynb\n",
      " Seconds_in_mnths.ipynb                 Untitled.ipynb\n",
      " seconds_in_month.nc                    \u001b[01;34myy\u001b[0m\n"
     ]
    }
   ],
   "source": [
    "ls\n"
   ]
  },
  {
   "cell_type": "code",
   "execution_count": 6,
   "id": "ec87526c-7bb5-45cd-9628-38e72191f949",
   "metadata": {},
   "outputs": [],
   "source": [
    "cd out_files"
   ]
  },
  {
   "cell_type": "code",
   "execution_count": 7,
   "id": "c2ddd767-5b05-4adc-8656-abf19888ab90",
   "metadata": {},
   "outputs": [
    {
     "name": "stdout",
     "output_type": "stream",
     "text": [
      "/home/patrick-k-inkoom/Documents/Slides/Second term/ESM/Lab/out_files\n"
     ]
    }
   ],
   "source": [
    "pwd"
   ]
  },
  {
   "cell_type": "code",
   "execution_count": 8,
   "id": "24ee12e3-743e-41e8-b712-37a5b049e26c",
   "metadata": {},
   "outputs": [
    {
     "name": "stdout",
     "output_type": "stream",
     "text": [
      "gh_mean.nc     lh_monthly.nc  savannah_gh.nc  savannah_sh.nc\n",
      "gh_monthly.nc  rs_mean.nc     savannah_lh.nc  sh_mean.nc\n",
      "lh_mean.nc     rs_monthly.nc  savannah_rs.nc  sh_monthly.nc\n"
     ]
    }
   ],
   "source": [
    "ls"
   ]
  },
  {
   "cell_type": "code",
   "execution_count": 13,
   "id": "68c99423-3d6b-4ae3-a51f-47e494f8081b",
   "metadata": {},
   "outputs": [
    {
     "name": "stdout",
     "output_type": "stream",
     "text": [
      "Ncview 2.1.8 David W. Pierce  8 March 2017\n",
      "http://meteora.ucsd.edu:80/~pierce/ncview_home_page.html\n",
      "Copyright (C) 1993 through 2015, David W. Pierce\n",
      "Ncview comes with ABSOLUTELY NO WARRANTY; for details type `ncview -w'.\n",
      "This is free software licensed under the Gnu General Public License version 3; type `ncview -c' for redistribution details.\n",
      "\n",
      "Warning: Cannot convert string \"-*-lucida-bold-r-*-*-14-*-*-*-*-*-*-*\" to type FontStruct\n",
      "X connection to :0 broken (explicit kill or server shutdown).\n"
     ]
    },
    {
     "ename": "",
     "evalue": "1",
     "output_type": "error",
     "traceback": []
    }
   ],
   "source": [
    "ncview lh_mean.nc"
   ]
  },
  {
   "cell_type": "code",
   "execution_count": null,
   "id": "ea810838-f753-406e-99cd-2f1c60777303",
   "metadata": {},
   "outputs": [],
   "source": []
  }
 ],
 "metadata": {
  "kernelspec": {
   "display_name": "Bash",
   "language": "bash",
   "name": "bash"
  },
  "language_info": {
   "codemirror_mode": "shell",
   "file_extension": ".sh",
   "mimetype": "text/x-sh",
   "name": "bash"
  }
 },
 "nbformat": 4,
 "nbformat_minor": 5
}
